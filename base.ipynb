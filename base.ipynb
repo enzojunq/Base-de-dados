{
 "cells": [
  {
   "attachments": {},
   "cell_type": "markdown",
   "metadata": {},
   "source": [
    "# SUP I\n",
    "## Suplementos Alimentares\n",
    "### Case de Marketing e Análise de Dados\n",
    "- Nomes\n"
   ]
  },
  {
   "cell_type": "code",
   "execution_count": 3,
   "metadata": {},
   "outputs": [],
   "source": [
    "import pandas as pd\n",
    "import numpy as np\n",
    "from sklearn.cluster import KMeans\n",
    "from sklearn.preprocessing import StandardScaler\n",
    "import matplotlib.pyplot as plt \n",
    "import seaborn as sns\n",
    "sns.set()\n",
    "from numpy import arange \n",
    "from sklearn.preprocessing import LabelEncoder \n",
    "from sklearn.preprocessing import StandardScaler\n",
    "from sklearn.cluster import KMeans\n",
    "from sklearn.decomposition import PCA\n",
    "import os \n",
    "import math\n",
    "from math import sqrt"
   ]
  },
  {
   "attachments": {},
   "cell_type": "markdown",
   "metadata": {},
   "source": [
    "Carregando a base de dados em um dataframe usando a biblioteca pandas:"
   ]
  },
  {
   "cell_type": "code",
   "execution_count": 4,
   "metadata": {},
   "outputs": [
    {
     "name": "stdout",
     "output_type": "stream",
     "text": [
      "  Quantas vezes você consome alimentos de linha fitness ou focados em em bem estar (biscoitos fitness, snacks de frutas e oleaginosas, suplementos alimentares) na semana?   \\\n",
      "0                                              Qfreq                                                                                                                          \n",
      "1                                                  4                                                                                                                          \n",
      "2                                                  4                                                                                                                          \n",
      "3                                                  2                                                                                                                          \n",
      "4                                                  1                                                                                                                          \n",
      "\n",
      "  Qual o motivo de não utilizar esses produtos? Pode marcar mais de uma opção  \\\n",
      "0                                                 P2                            \n",
      "1                                                NaN                            \n",
      "2                                                NaN                            \n",
      "3                                                NaN                            \n",
      "4                                                NaN                            \n",
      "\n",
      "  Se esses produtos fossem mais baratos, o quanto você estaria disposto a utilizá-los mais?  \\\n",
      "0                                                 P3                                          \n",
      "1                                                NaN                                          \n",
      "2                                                NaN                                          \n",
      "3                                                NaN                                          \n",
      "4                                                NaN                                          \n",
      "\n",
      "  Biscoitos  Snacks  Suplementos Outros  Uso por recomendação médica  \\\n",
      "0         P4      P5          P6      P7                          P8   \n",
      "1          7       2           7       7                           1   \n",
      "2          5       1           1       3                           5   \n",
      "3          6       1           6       3                           6   \n",
      "4          2       1           2       2                           2   \n",
      "\n",
      "  Uso por auto prescrição  \\\n",
      "0                      P9   \n",
      "1                       1   \n",
      "2                       4   \n",
      "3                       1   \n",
      "4                       1   \n",
      "\n",
      "  Você utiliza/ já utilizou algum suplemento alimentar?  ...  \\\n",
      "0                                                P12     ...   \n",
      "1                                                  1     ...   \n",
      "2                                                  1     ...   \n",
      "3                                                  1     ...   \n",
      "4                                                  2     ...   \n",
      "\n",
      "  Consumo suplementos para ganho de massa muscular  \\\n",
      "0                                              P24   \n",
      "1                                                3   \n",
      "2                                                6   \n",
      "3                                                7   \n",
      "4                                              NaN   \n",
      "\n",
      "  Prefiro suplementos naturais aos sintéticos  \\\n",
      "0                                         P25   \n",
      "1                                           7   \n",
      "2                                           6   \n",
      "3                                           7   \n",
      "4                                         NaN   \n",
      "\n",
      "  Consumo suplementos para regularizar sistema hormonal  \\\n",
      "0                                                P26      \n",
      "1                                                  7      \n",
      "2                                                  4      \n",
      "3                                                  7      \n",
      "4                                                NaN      \n",
      "\n",
      "  Qual seu nível de escolaridade? Qual seu estado civil?  \\\n",
      "0                            Qesc                   Qciv   \n",
      "1                               3                      2   \n",
      "2                               5                      1   \n",
      "3                               4                      1   \n",
      "4                               3                      2   \n",
      "\n",
      "  Qual é a sua principal ocupação?  Sexo Idade Região Classe Social  \n",
      "0                            Qocup  Qgen   Qid   Qreg       Qclasse  \n",
      "1                                3     1    31      3             5  \n",
      "2                                3     1    59      4             3  \n",
      "3                                2     1    20      2             3  \n",
      "4                                2     1    24      1             5  \n",
      "\n",
      "[5 rows x 31 columns]\n"
     ]
    }
   ],
   "source": [
    "df = pd.read_excel('Base - Pesquisa de Mercado.xlsx', sheet_name=0)\n",
    "print(df.head())"
   ]
  }
 ],
 "metadata": {
  "kernelspec": {
   "display_name": "Python 3",
   "language": "python",
   "name": "python3"
  },
  "language_info": {
   "codemirror_mode": {
    "name": "ipython",
    "version": 3
   },
   "file_extension": ".py",
   "mimetype": "text/x-python",
   "name": "python",
   "nbconvert_exporter": "python",
   "pygments_lexer": "ipython3",
   "version": "3.9.13"
  },
  "orig_nbformat": 4
 },
 "nbformat": 4,
 "nbformat_minor": 2
}
