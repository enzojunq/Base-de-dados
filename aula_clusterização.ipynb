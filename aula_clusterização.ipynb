{
 "cells": [
  {
   "cell_type": "markdown",
   "metadata": {},
   "source": [
    "# Aula Clusterização\n",
    "## 26/07 (quarta-feira)"
   ]
  },
  {
   "cell_type": "markdown",
   "metadata": {},
   "source": [
    "### Dados e clusterização\n"
   ]
  },
  {
   "cell_type": "markdown",
   "metadata": {},
   "source": [
    "1. Contextualização\n",
    "2. Tratamento da base\n",
    "3. Métodos de clusterização"
   ]
  },
  {
   "cell_type": "markdown",
   "metadata": {},
   "source": [
    "## 1"
   ]
  },
  {
   "cell_type": "markdown",
   "metadata": {},
   "source": [
    "- Análise de dados:\n",
    "Orientada a um propósito\n",
    "- Problemática:\n",
    "Qual é o meu objetivo e o que eu preciso saber para alcançá-lo?\n",
    "- Entendimento:\n",
    "Mapear o que temos\n",
    "Traçar um plano de ação\n",
    "- Obtenção de Resultados:\n"
   ]
  },
  {
   "cell_type": "markdown",
   "metadata": {},
   "source": [
    "## 2\n",
    "- Existem buracos na base.\n",
    "- Entender o que aconteceu para ter os buracos.\n",
    "- Devemos nos preocupar com eles?\n",
    "\n",
    "- Converter os dados.\n",
    "- Estado civil: não faz sentido ser números\n",
    "- Clusterização eé transformar as infos do cliente em números\n",
    "- Como tratar os dados?\n",
    "- Sistema de 0 e 1 ou excluir\n",
    "- Excluir: não faz sentido para o problema\n",
    "- 0 e 1: faz sentido para o problema\n",
    "\n",
    "## 3\n",
    "- Subdividir o comportamento das pessoas\n",
    "\n",
    "Métodos:\n",
    "- Centroide: média dos pontos\n",
    "Amostra de população e achar um representante.\n",
    "É o mais comum.\n",
    "EX. KMEANS: quantidade de médias\n",
    "(método do cotovelo)\n",
    "\n",
    "\n",
    "- Modelo de conectividade: \n",
    "Dividir os comportamentos das pessoas em grupos.\n",
    "Se pauta no ponto que vamos fazer a subdivisão dos grupos.\n",
    "Devemos buscar o número de cluster\n",
    "EX. Família Random (Florest, Tree...)\n",
    "Modelo de regressão.\n",
    "\n",
    "- Modelo de distribuição:\n",
    "Inteligência artificial\n",
    "Escala do quão próximo está do centroide\n",
    "Conseguindo afunilar ainda mais os grupos\n",
    "EX. Depende da distribuição.\n",
    "\n",
    "- Modelos de densidade:\n",
    "Análise mais qualitativa dos dados\n",
    "Entender pontos mais gerais\n",
    "EX. DBSCAN\n",
    "É o mais comum.\n",
    "\n",
    "\n",
    "\n"
   ]
  }
 ],
 "metadata": {
  "language_info": {
   "name": "python"
  },
  "orig_nbformat": 4
 },
 "nbformat": 4,
 "nbformat_minor": 2
}
